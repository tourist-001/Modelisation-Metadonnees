{
 "cells": [
  {
   "cell_type": "code",
   "execution_count": null,
   "id": "d9dcb1f3",
   "metadata": {},
   "outputs": [],
   "source": [
    "import time\n",
    "\n",
    "# Connection\n",
    "connection  = psy.connect(user = \"postgres\", password = \"password\", host= \"localhost\", port=\"5432\")\n",
    "cur = connection.cursor()\n",
    "\n",
    "# Tous les samples d'un utilisateur\n",
    "sql = \"\"\"\n",
    "SELECT us.lastName, us.firstName, samp.name\n",
    "FROM Sample samp, Userr us\n",
    "WHERE samp.userId = us.id\n",
    "AND us.lastName = 'Sophie'\n",
    "AND us.firstName = 'Tang';\n",
    "\"\"\"\n",
    "\n",
    "# Enregistrer le temps de début\n",
    "time_start = time.perf_counter()\n",
    "\n",
    "# Excecuter la requête\n",
    "cur.execute(sql)\n",
    "\n",
    "# Entregistrer le temps de fin\n",
    "time_end = time.perf_counter()\n",
    "\n",
    "# Calculer la durée\n",
    "time_sum = time_end - time_start\n",
    "\n",
    "print(time_sum)\n",
    "print(cur.fetchall())\n",
    "\n",
    "#fermer la connection\n",
    "connection.close()"
   ]
  }
 ],
 "metadata": {
  "kernelspec": {
   "display_name": "Python 3",
   "language": "python",
   "name": "python3"
  },
  "language_info": {
   "codemirror_mode": {
    "name": "ipython",
    "version": 3
   },
   "file_extension": ".py",
   "mimetype": "text/x-python",
   "name": "python",
   "nbconvert_exporter": "python",
   "pygments_lexer": "ipython3",
   "version": "3.8.8"
  }
 },
 "nbformat": 4,
 "nbformat_minor": 5
}
