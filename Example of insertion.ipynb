{
 "cells": [
  {
   "cell_type": "code",
   "execution_count": null,
   "id": "eef241e0",
   "metadata": {},
   "outputs": [],
   "source": [
    "import json\n",
    "import psycopg2 as psy\n",
    "\n",
    "# Read file\n",
    "with open (os.getcwd()+\"\\\\Attribute.json\") as f:\n",
    "    data = json.load(f)\n",
    "    \n",
    "# Connection\n",
    "connection  = psy.connect( user = \"postgres\", password = \"password\", host= \"localhost\", port=\"5432\")\n",
    "cur = connection.cursor()\n",
    "\n",
    "# Insertion\n",
    "sql = \"INSERT INTO Attribute(name, type, entityclassid, sensitivitymarkid) VALUES(%s,%s,%s,%s)\"\n",
    "for i in range (len(data)):\n",
    "    cur.execute(sql, list(data[i].values()))\n",
    "\n",
    "# enregistrer les changements\n",
    "connection.commit()\n",
    "\n",
    "# vérifier si les données sont bien insérées\n",
    "command2 = \"\"\"\n",
    "        SELECT * FROM EntityClass\n",
    "        \n",
    "        \"\"\"\n",
    "cur.execute(command2)\n",
    "print(cur.fetchall())\n",
    "\n",
    "#fermer la connection\n",
    "connection.close()"
   ]
  }
 ],
 "metadata": {
  "kernelspec": {
   "display_name": "Python 3",
   "language": "python",
   "name": "python3"
  },
  "language_info": {
   "codemirror_mode": {
    "name": "ipython",
    "version": 3
   },
   "file_extension": ".py",
   "mimetype": "text/x-python",
   "name": "python",
   "nbconvert_exporter": "python",
   "pygments_lexer": "ipython3",
   "version": "3.8.8"
  }
 },
 "nbformat": 4,
 "nbformat_minor": 5
}
