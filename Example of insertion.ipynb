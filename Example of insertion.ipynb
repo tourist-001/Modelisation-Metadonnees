{
 "cells": [
  {
   "cell_type": "code",
   "execution_count": null,
   "id": "b663252c",
   "metadata": {},
   "outputs": [],
   "source": [
    "import json\n",
    "import psycopg2 as psy\n",
    "\n",
    "# Read file\n",
    "with open (\"C:\\\\Users\\\\Yu rui\\\\M1\\\\projet\\\\json\\\\2\\\\source.json\") as f:\n",
    "    data = json.load(f) \n",
    "\n",
    "# Connection\n",
    "connection  = psy.connect(user = \"postgres\", password = \"password\", host= \"localhost\", port=\"5432\")\n",
    "cur = connection.cursor()\n",
    "\n",
    "# Insertion\n",
    "sql = \"INSERT INTO Source(URI, description, userId) VALUES(%s,%s,%s)\"\n",
    "for key in data:\n",
    "    d = data[key]\n",
    "    cur.execute(sql, list(d.values()))\n",
    "\n",
    "# enregistrer les changements\n",
    "connection.commit()\n",
    "\n",
    "# fermer la connection\n",
    "connection.close()"
   ]
  }
 ],
 "metadata": {
  "kernelspec": {
   "display_name": "Python 3",
   "language": "python",
   "name": "python3"
  },
  "language_info": {
   "codemirror_mode": {
    "name": "ipython",
    "version": 3
   },
   "file_extension": ".py",
   "mimetype": "text/x-python",
   "name": "python",
   "nbconvert_exporter": "python",
   "pygments_lexer": "ipython3",
   "version": "3.8.8"
  }
 },
 "nbformat": 4,
 "nbformat_minor": 5
}
